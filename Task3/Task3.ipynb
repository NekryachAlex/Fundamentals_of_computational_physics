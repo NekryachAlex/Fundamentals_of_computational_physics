{
 "cells": [
  {
   "cell_type": "code",
   "execution_count": 11,
   "id": "1e5a2412-e582-4af3-96b6-788fc98743f9",
   "metadata": {},
   "outputs": [],
   "source": [
    "import matplotlib.pyplot as plt\n",
    "from scipy.integrate import quad\n",
    "import numpy as np"
   ]
  },
  {
   "cell_type": "code",
   "execution_count": 12,
   "id": "e1420cf0-94c0-4e55-bf33-6ae077794545",
   "metadata": {},
   "outputs": [],
   "source": [
    "def I_3a(x):\n",
    "    return 1/(1 + x*x)"
   ]
  },
  {
   "cell_type": "code",
   "execution_count": 5,
   "id": "528daf24-0906-4d31-85f4-4a31abb1aabf",
   "metadata": {},
   "outputs": [],
   "source": [
    "def left_rectangle_method(f, a, b, n):\n",
    "    h = (b - a) / n\n",
    "    sum = f(a)\n",
    "    for i in range(1, n):\n",
    "        a += h\n",
    "        sum += f(a)\n",
    "        \n",
    "    return sum * h"
   ]
  },
  {
   "cell_type": "code",
   "execution_count": 53,
   "id": "6d778b43-d053-4cc3-86ee-31f809080c0d",
   "metadata": {},
   "outputs": [],
   "source": [
    "def tr(f, a, b, n):\n",
    "    h = (b - a) / n\n",
    "    sum = 0\n",
    "    for i in range(0, n):\n",
    "        a += h\n",
    "        sum += f((np.float64(a+b))/2.0)\n",
    "        \n",
    "    return sum * h"
   ]
  },
  {
   "cell_type": "code",
   "execution_count": 86,
   "id": "2142cdfd-e820-4008-919c-5864e02329f6",
   "metadata": {},
   "outputs": [],
   "source": [
    "right_rectangle_method = lambda f, a, b: f(b)\n",
    "left_rectangle_method = lambda f, a, b: f(a)\n",
    "mean_method = lambda f,a,b: f((a+b)/2.0)\n",
    "simpson_method = lambda f, a, b: (f(a) + 4 * f((a+b)/2) + f(b)) / 6.0\n",
    "trapezoidal_method = lambda f, a, b: (f(a) + f(b)) / 2.0\n",
    "\n",
    "\n",
    "def integration_function(f, a, b, strategy, N=2**9):\n",
    "    \n",
    "    step = (b - a) / N\n",
    "    left = a\n",
    "    right = a + step\n",
    "    _sum = 0\n",
    "    \n",
    "    for i in range(N):\n",
    "        _sum += strategy(f, left, right)\n",
    "        left += step\n",
    "        right += step\n",
    "    return _sum * step"
   ]
  },
  {
   "cell_type": "code",
   "execution_count": 87,
   "id": "fd4bc46a-02b5-4137-93d5-35994281fd15",
   "metadata": {},
   "outputs": [],
   "source": [
    "def check_precision(func, a, b, N):\n",
    "    \n",
    "    true_result = np.pi/2\n",
    "    #print(f\"integral value: {true_result[0]}, precision: {true_result[1]}\\n\")\n",
    "    #true_result = true_result[0]\n",
    "\n",
    "\n",
    "    number_of_partitions = []\n",
    "    \n",
    "    lrm_errors = []\n",
    "    rrm_errors = []\n",
    "    mm_errors = []\n",
    "    tr_errors = []\n",
    "    s_errors = []\n",
    "\n",
    "    n = 0\n",
    "    print('+-----+-----------------------+-----------+------------------------+-----------+-------------+-----------+')\n",
    "    print('|  N  | left_rectangle_method |   error   | right_rectangle_method |   error   | mean_method |   error   |')\n",
    "    print('+-----+-----------------------+-----------+------------------------+-----------+-------------+-----------+')\n",
    "    for i in range(N):\n",
    "        n += 10\n",
    "        number_of_partitions.append(n)\n",
    "    \n",
    "        int_lrm = integration_function(func, a, b, left_rectangle_method, n)\n",
    "        err_lrm = abs(int_lrm - true_result)\n",
    "        lrm_errors.append(err_lrm)\n",
    "    \n",
    "        int_rrm = integration_function(func, a, b, right_rectangle_method, n)\n",
    "        err_rrm = abs(int_rrm - true_result)\n",
    "        rrm_errors.append(err_rrm)\n",
    "\n",
    "        int_mm = integration_function(func, a, b, mean_method, n)\n",
    "        err_mm = abs(int_mm - true_result)\n",
    "        mm_errors.append(err_mm)\n",
    "        \n",
    "        print(f'| {n:^3} | {int_lrm:^21.6g} | {err_lrm:^9.3e} | {int_rrm:^22.6g} | {err_rrm:^9.3e} | {int_mm:^11.6g} | {err_mm:^9.3e} |')\n",
    "    n = 0\n",
    "    print('+-----+-----------------------+-----------+------------------------+-----------+-------------+-----------+')\n",
    "    \n",
    "    print('+-----+------------------------+-----------+--------------------+-----------+')\n",
    "    print('|  N  |   trapezoidal_method   |   error   |   simpson_method   |   error   |')\n",
    "    print('+-----+------------------------+-----------+--------------------+-----------+')\n",
    "    for i in range(N):\n",
    "        n += 10\n",
    "\n",
    "        int_tr = integration_function(func, a, b, trapezoidal_method, n)\n",
    "        err_tr = abs(int_tr - true_result)\n",
    "        tr_errors.append(err_tr)\n",
    "\n",
    "        \n",
    "        int_s = integration_function(func, a, b, simpson_method, n)\n",
    "        err_s = abs(int_s - true_result)\n",
    "        s_errors.append(err_s)\n",
    "        print(f'| {n:^3} |   {int_tr:^{len('trapezoidal_method')}.6g}   |{err_tr:^11.3e}|\\\n",
    "   {int_s:^{len('simpson_method')}.6g}   |{err_s:^11.3e}|')\n",
    "    print('+-----+------------------------+-----------+--------------------+-----------+')\n",
    "    \n",
    "    plt.plot(number_of_partitions, lrm_errors, label='left_rectangle_method')\n",
    "    plt.plot(number_of_partitions, rrm_errors, label='right_rectangle_method')\n",
    "   \n",
    "    '''          \n",
    "    plt.legend()\n",
    "    plt.xscale(\"log\")\n",
    "    plt.yscale(\"log\")\n",
    "    plt.show()'''\n",
    "\n",
    "        \n",
    "    plt.plot(number_of_partitions, mm_errors, label='mean_method')    \n",
    "    plt.plot(number_of_partitions, tr_errors, label='trapezoidal')\n",
    "    plt.plot(number_of_partitions, s_errors, label='simpson')\n",
    "    plt.legend()\n",
    "    plt.xscale(\"log\")\n",
    "    plt.yscale(\"log\")\n",
    "    plt.show()"
   ]
  },
  {
   "cell_type": "code",
   "execution_count": 90,
   "id": "18df83fa-cbe7-48d6-8f2b-053c442dd065",
   "metadata": {
    "scrolled": true
   },
   "outputs": [
    {
     "name": "stdout",
     "output_type": "stream",
     "text": [
      "+-----+-----------------------+-----------+------------------------+-----------+-------------+-----------+\n",
      "|  N  | left_rectangle_method |   error   | right_rectangle_method |   error   | mean_method |   error   |\n",
      "+-----+-----------------------+-----------+------------------------+-----------+-------------+-----------+\n",
      "| 10  |        1.56746        | 3.333e-03 |        1.56746         | 3.333e-03 |   1.57246   | 1.667e-03 |\n",
      "| 20  |        1.56996        | 8.333e-04 |        1.56996         | 8.333e-04 |   1.57121   | 4.167e-04 |\n",
      "| 30  |        1.57043        | 3.704e-04 |        1.57043         | 3.704e-04 |   1.57098   | 1.852e-04 |\n",
      "| 40  |        1.57059        | 2.083e-04 |        1.57059         | 2.083e-04 |   1.5709    | 1.042e-04 |\n",
      "| 50  |        1.57066        | 1.333e-04 |        1.57066         | 1.333e-04 |   1.57086   | 6.667e-05 |\n",
      "| 60  |        1.5707         | 9.259e-05 |         1.5707         | 9.259e-05 |   1.57084   | 4.630e-05 |\n",
      "| 70  |        1.57073        | 6.803e-05 |        1.57073         | 6.803e-05 |   1.57083   | 3.401e-05 |\n",
      "| 80  |        1.57074        | 5.208e-05 |        1.57074         | 5.208e-05 |   1.57082   | 2.604e-05 |\n",
      "| 90  |        1.57076        | 4.115e-05 |        1.57076         | 4.115e-05 |   1.57082   | 2.058e-05 |\n",
      "| 100 |        1.57076        | 3.333e-05 |        1.57076         | 3.333e-05 |   1.57081   | 1.667e-05 |\n",
      "+-----+-----------------------+-----------+------------------------+-----------+-------------+-----------+\n",
      "+-----+------------------------+-----------+--------------------+-----------+\n",
      "|  N  |   trapezoidal_method   |   error   |   simpson_method   |   error   |\n",
      "+-----+------------------------+-----------+--------------------+-----------+\n",
      "| 10  |        1.56746         | 3.333e-03 |       1.5708       | 1.983e-08 |\n",
      "| 20  |        1.56996         | 8.333e-04 |       1.5708       | 3.100e-10 |\n",
      "| 30  |        1.57043         | 3.704e-04 |       1.5708       | 2.722e-11 |\n",
      "| 40  |        1.57059         | 2.083e-04 |       1.5708       | 4.844e-12 |\n",
      "| 50  |        1.57066         | 1.333e-04 |       1.5708       | 1.269e-12 |\n",
      "| 60  |         1.5707         | 9.259e-05 |       1.5708       | 4.250e-13 |\n",
      "| 70  |        1.57073         | 6.803e-05 |       1.5708       | 1.690e-13 |\n",
      "| 80  |        1.57074         | 5.208e-05 |       1.5708       | 7.616e-14 |\n",
      "| 90  |        1.57076         | 4.115e-05 |       1.5708       | 3.753e-14 |\n",
      "| 100 |        1.57076         | 3.333e-05 |       1.5708       | 1.954e-14 |\n",
      "+-----+------------------------+-----------+--------------------+-----------+\n"
     ]
    },
    {
     "data": {
      "image/png": "[encoded data removed]",
      "text/plain": [
       "<Figure size 640x480 with 1 Axes>"
      ]
     },
     "metadata": {},
     "output_type": "display_data"
    }
   ],
   "source": [
    "check_precision(I_3a, -1, 1, 10)"
   ]
  },
  {
   "cell_type": "markdown",
   "id": "caf9d6d6-6d86-4ba2-9207-0da1e020f19e",
   "metadata": {},
   "source": []
  },
  {
   "cell_type": "code",
   "execution_count": 94,
   "id": "d5b10a64-dd46-452d-aadd-51a48bc81b0d",
   "metadata": {},
   "outputs": [],
   "source": [
    "def erf(x):\n",
    "    return (2 / np.sqrt(np.pi)) *integration_function(lambda t: np.exp(-t**2), 0, x, simpson_method, 100)"
   ]
  },
  {
   "cell_type": "code",
   "execution_count": 95,
   "id": "f751b4ee-614b-4292-9c64-d335e3c91bf1",
   "metadata": {},
   "outputs": [
    {
     "data": {
      "text/plain": [
       "np.float64(0.8427007929554804)"
      ]
     },
     "execution_count": 95,
     "metadata": {},
     "output_type": "execute_result"
    }
   ],
   "source": [
    "erf(1)"
   ]
  }
 ],
 "metadata": {
  "kernelspec": {
   "display_name": "Python 3 (ipykernel)",
   "language": "python",
   "name": "python3"
  },
  "language_info": {
   "codemirror_mode": {
    "name": "ipython",
    "version": 3
   },
   "file_extension": ".py",
   "mimetype": "text/x-python",
   "name": "python",
   "nbconvert_exporter": "python",
   "pygments_lexer": "ipython3",
   "version": "3.12.2"
  }
 },
 "nbformat": 4,
 "nbformat_minor": 5
}
