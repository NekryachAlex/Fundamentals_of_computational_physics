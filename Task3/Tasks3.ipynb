{
 "cells": [
  {
   "cell_type": "code",
   "execution_count": 1,
   "id": "1e5a2412-e582-4af3-96b6-788fc98743f9",
   "metadata": {},
   "outputs": [],
   "source": [
    "import matplotlib.pyplot as plt\n",
    "from scipy.integrate import quad\n",
    "import numpy as np"
   ]
  },
  {
   "cell_type": "code",
   "execution_count": 2,
   "id": "e1420cf0-94c0-4e55-bf33-6ae077794545",
   "metadata": {},
   "outputs": [],
   "source": [
    "def I_3a(x):\n",
    "    return 1/(1 + x*x)"
   ]
  },
  {
   "cell_type": "code",
   "execution_count": 17,
   "id": "528daf24-0906-4d31-85f4-4a31abb1aabf",
   "metadata": {},
   "outputs": [],
   "source": [
    "def left_rectangle_method(f, a, b, n):\n",
    "    h = (b - a) / n\n",
    "    sum = f(a)\n",
    "    for i in range(1, n):\n",
    "        sum += f(a+h*i)\n",
    "    return sum * h"
   ]
  },
  {
   "cell_type": "code",
   "execution_count": 22,
   "id": "6d778b43-d053-4cc3-86ee-31f809080c0d",
   "metadata": {},
   "outputs": [],
   "source": [
    "def right_rectangle_method(f, a, b, n):\n",
    "    h = (b - a) / n\n",
    "    sum = f(a + h)\n",
    "    for i in range(2, n + 1):\n",
    "        sum += f(a+h*i)\n",
    "    return sum * h"
   ]
  },
  {
   "cell_type": "code",
   "execution_count": 19,
   "id": "b9036499-b6fa-40ee-99dc-0f7bb6f587b3",
   "metadata": {},
   "outputs": [],
   "source": [
    "def trapezoid_method(f, a, b, n):\n",
    "    h = (b - a) / n\n",
    "    sum = f(a)/2\n",
    "    for i in range(2, n):\n",
    "        sum += f(a + h * i)\n",
    "    sum += f(b)/2\n",
    "    return sum * h"
   ]
  },
  {
   "cell_type": "code",
   "execution_count": 30,
   "id": "924b507c-b7d1-4dfc-a280-29f2c1f10c21",
   "metadata": {},
   "outputs": [],
   "source": [
    "def mean_method(f, a, b, n):\n",
    "    h = (b - a) / n\n",
    "    sum = f((2*a + h) / 2)\n",
    "    for i in range(1, n + 1):\n",
    "        sum += f((a + h*i + h*(i+1) + a) / 2)\n",
    "    return sum * h"
   ]
  },
  {
   "cell_type": "code",
   "execution_count": null,
   "id": "c56111c1-a7ba-496d-b469-0a203c9a5e76",
   "metadata": {},
   "outputs": [],
   "source": [
    "def simpson_method(f, a, b, n):\n",
    "    if n % 2 == 1: \n",
    "        n += 1\n",
    "    h = (b - a) / n\n",
    "    result = f(a) + f(b) + 4 * sum(f(a + (i + 0.5) * h) for i in range(n)) + 2 * sum(f(a + i * h) for i in range(1, n))\n",
    "    return h * result / 6"
   ]
  },
  {
   "cell_type": "code",
   "execution_count": 31,
   "id": "2c91e3e0-2c6f-460c-85d1-3441955e7360",
   "metadata": {},
   "outputs": [
    {
     "data": {
      "text/plain": [
       "1.5707963234615654"
      ]
     },
     "execution_count": 31,
     "metadata": {},
     "output_type": "execute_result"
    }
   ],
   "source": [
    "left_rectangle_method(I_3a, -1, 1, 10000)"
   ]
  },
  {
   "cell_type": "code",
   "execution_count": 32,
   "id": "8ec7882a-de4c-4f7e-b769-49782ce48c38",
   "metadata": {},
   "outputs": [
    {
     "data": {
      "text/plain": [
       "1.5707963234615654"
      ]
     },
     "execution_count": 32,
     "metadata": {},
     "output_type": "execute_result"
    }
   ],
   "source": [
    "right_rectangle_method(I_3a, -1, 1, 10000)"
   ]
  },
  {
   "cell_type": "code",
   "execution_count": 34,
   "id": "a197124d-7fa2-476c-bdce-7150b061ddca",
   "metadata": {},
   "outputs": [
    {
     "data": {
      "text/plain": [
       "1.5708963184620661"
      ]
     },
     "execution_count": 34,
     "metadata": {},
     "output_type": "execute_result"
    }
   ],
   "source": [
    "mean_method(I_3a, -1, 1, 10000)"
   ]
  },
  {
   "cell_type": "code",
   "execution_count": 21,
   "id": "026d24ce-f47b-4b72-8ceb-306cbb8c4a97",
   "metadata": {},
   "outputs": [
    {
     "data": {
      "text/plain": [
       "1.5706963034595651"
      ]
     },
     "execution_count": 21,
     "metadata": {},
     "output_type": "execute_result"
    }
   ],
   "source": [
    "trapezoid_method(I_3a, -1, 1, 10000)"
   ]
  },
  {
   "cell_type": "code",
   "execution_count": null,
   "id": "27183332-f5a4-4158-bd46-9edd76e6da64",
   "metadata": {},
   "outputs": [],
   "source": []
  }
 ],
 "metadata": {
  "kernelspec": {
   "display_name": "Python 3 (ipykernel)",
   "language": "python",
   "name": "python3"
  },
  "language_info": {
   "codemirror_mode": {
    "name": "ipython",
    "version": 3
   },
   "file_extension": ".py",
   "mimetype": "text/x-python",
   "name": "python",
   "nbconvert_exporter": "python",
   "pygments_lexer": "ipython3",
   "version": "3.12.2"
  }
 },
 "nbformat": 4,
 "nbformat_minor": 5
}
