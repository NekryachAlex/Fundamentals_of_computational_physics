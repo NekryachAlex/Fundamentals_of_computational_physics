{
 "cells": [
  {
   "cell_type": "code",
   "execution_count": 1,
   "id": "74031e94-4100-42cd-9550-3d26544a70e7",
   "metadata": {},
   "outputs": [],
   "source": [
    "import matplotlib.pyplot as plt\n",
    "from scipy.integrate import quad\n",
    "import numpy as np"
   ]
  },
  {
   "cell_type": "code",
   "execution_count": 2,
   "id": "9d1f270b-e344-4b5d-a56c-ef808c02d35c",
   "metadata": {},
   "outputs": [],
   "source": [
    "right_rectangle_method = lambda f, a, b: f(b)\n",
    "left_rectangle_method = lambda f, a, b: f(a)\n",
    "mean_method = lambda f,a,b: f((a+b)/2)\n",
    "simpson_method = lambda f, a, b: (f(a) + 4 * f((a+b)/2) + f(b)) / 6\n",
    "trapezoidal_method = lambda f, a, b: (f(a) + f(b)) / 2\n",
    "\n",
    "\n",
    "def integration_function(f, a, b, strategy, N=2**7):\n",
    "    \n",
    "    step = (b - a) / N\n",
    "    left = a\n",
    "    right = a + step\n",
    "    _sum = 0\n",
    "    \n",
    "    for i in range(N):\n",
    "        _sum += strategy(f, left, right)\n",
    "        left += step\n",
    "        right += step\n",
    "    return _sum * step"
   ]
  },
  {
   "cell_type": "code",
   "execution_count": 20,
   "id": "22975d09-7f0b-48c1-abe8-2effb5ef7871",
   "metadata": {},
   "outputs": [],
   "source": [
    "def J(x, m, strategy):\n",
    "    function = lambda t: np.cos(m * t - x * np.sin(t))\n",
    "    return (1/np.pi) * integration_function(function, 0, np.pi, strategy)"
   ]
  },
  {
   "cell_type": "code",
   "execution_count": 22,
   "id": "77dfc6b2-0a47-4961-965b-d68a66421870",
   "metadata": {},
   "outputs": [],
   "source": [
    "def dJ(x, m, strategy, delta=1e-5):\n",
    "    return (J(x + delta, m, strategy) - J(x - delta, m, strategy)) / (2 * delta)"
   ]
  },
  {
   "cell_type": "code",
   "execution_count": 33,
   "id": "8c4daf0c-21a3-4760-b0de-7fa5d32581d7",
   "metadata": {},
   "outputs": [],
   "source": [
    "precision = 10e-10\n",
    "a = 0\n",
    "b = 2 * np.pi\n",
    "N = 100\n",
    "span = np.linspace(a, b, 100)\n",
    "\n",
    "simpson_errors = np.vectorize(lambda x: dJ(x, 0, simpson_method)     + J(x, 1, simpson_method))(span)\n",
    "trapezoidal_errors = np.vectorize(lambda x: dJ(x, 0, trapezoidal_method) + J(x, 1, trapezoidal_method))(span)\n",
    "\n",
    "assert np.all(simpson_errors < precision)\n",
    "assert np.all(trapezoidal_errors < precision)\n"
   ]
  }
 ],
 "metadata": {
  "kernelspec": {
   "display_name": "Python 3 (ipykernel)",
   "language": "python",
   "name": "python3"
  },
  "language_info": {
   "codemirror_mode": {
    "name": "ipython",
    "version": 3
   },
   "file_extension": ".py",
   "mimetype": "text/x-python",
   "name": "python",
   "nbconvert_exporter": "python",
   "pygments_lexer": "ipython3",
   "version": "3.12.2"
  }
 },
 "nbformat": 4,
 "nbformat_minor": 5
}
