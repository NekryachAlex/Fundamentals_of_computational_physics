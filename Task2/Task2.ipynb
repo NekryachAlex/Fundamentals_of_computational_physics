{
 "cells": [
  {
   "cell_type": "code",
   "execution_count": 21,
   "id": "3a91d3cf",
   "metadata": {},
   "outputs": [],
   "source": [
    "import matplotlib.pyplot as plt\n",
    "import numpy as np\n",
    "from scipy.optimize import root\n",
    "from math import *\n",
    "\n",
    "import seaborn as sns\n",
    "sns.set_style('darkgrid')\n",
    "\n",
    "import ipywidgets as widgets"
   ]
  },
  {
   "cell_type": "code",
   "execution_count": 46,
   "id": "a2d38b12-0c6b-486f-92be-86d97a70f516",
   "metadata": {},
   "outputs": [],
   "source": [
    "np.set_printoptions(precision=64)"
   ]
  },
  {
   "cell_type": "code",
   "execution_count": 57,
   "id": "70444f93",
   "metadata": {},
   "outputs": [],
   "source": [
    "a = np.float64(1e-12) #pp[0]\n",
    "\n",
    "h = np.float64(1.054e-27) #pp[3]\n",
    "\n",
    "m = np.float64(9.1e-28) #pp[1]\n",
    "\n",
    "U_0 = np.float64(50e6 * 1.6e-12) #pp[2]\n",
    "\n",
    "pp = (a, m, U_0, m)"
   ]
  },
  {
   "cell_type": "code",
   "execution_count": 58,
   "id": "2491bc5b",
   "metadata": {},
   "outputs": [],
   "source": [
    "def f(xi, pp):\n",
    "    return  np.sqrt(1/xi - 1) - 1/np.tan(np.sqrt(2 * pp[0] * pp[0] * pp[1] * pp[2] /(pp[3]**2) * (1 - xi)))"
   ]
  },
  {
   "cell_type": "code",
   "execution_count": 59,
   "id": "53412f7c",
   "metadata": {},
   "outputs": [
    {
     "data": {
      "image/png": "[encoded data removed]",
      "text/plain": [
       "<Figure size 600x300 with 1 Axes>"
      ]
     },
     "metadata": {},
     "output_type": "display_data"
    }
   ],
   "source": [
    "x = np.arange(0.01, 0.99, 0.01)\n",
    "plt.figure(figsize=(6, 3))\n",
    "plt.plot(x, f(x,pp))\n",
    "plt.show()"
   ]
  },
  {
   "cell_type": "code",
   "execution_count": 60,
   "id": "d5c5ed23",
   "metadata": {},
   "outputs": [],
   "source": [
    "def dichotomy(f,pp, a, b, eps=1e-10):\n",
    "    f_a = f(a, pp)\n",
    "    f_b = f(b, pp)\n",
    "    count = 0\n",
    "    if f_a *  f_b > 0:\n",
    "        raise ValueError(\"The function must have opposite signs at points a and b\")\n",
    "        \n",
    "    while True:\n",
    "        count += 1\n",
    "        c = (a + b) / 2\n",
    "        f_c = f(c, pp)\n",
    "        if f_c == 0 or (b - a) / 2 < eps:\n",
    "            return (c, count)\n",
    "        elif f_a * f_c < 0:\n",
    "            b = c\n",
    "        else:\n",
    "            a = c"
   ]
  },
  {
   "cell_type": "code",
   "execution_count": 61,
   "id": "91716041",
   "metadata": {
    "scrolled": true
   },
   "outputs": [
    {
     "name": "stdout",
     "output_type": "stream",
     "text": [
      "result = 0.1432273774, number of operations = 30\n",
      "30\n"
     ]
    }
   ],
   "source": [
    "a = 0.1\n",
    "b = 0.2\n",
    "\n",
    "result, count = dichotomy(f,pp, a,b)\n",
    "print(\"result = {:.10f}, number of operations = {}\".format(result, count))\n",
    "#theoretical number of iterations\n",
    "eps_0 = 1e-1\n",
    "eps=1e-10\n",
    "print(round(np.log10(eps_0/eps)/np.log10(2)))"
   ]
  },
  {
   "cell_type": "code",
   "execution_count": 72,
   "id": "706c4dde-e1c5-4517-ba61-8dd2792e0651",
   "metadata": {},
   "outputs": [],
   "source": [
    "multiplier = 2 * pp[0] * pp[0] * pp[1] * pp[2] /(pp[3]**2)\n",
    "def derivative(xi):\n",
    "    return (multiplier * xi)/(2*np.sqrt(multiplier*(1-xi))*np.sin(multiplier * (1 - xi))**2) - 1/(2*(xi**2)*(np.sqrt(1/xi - 1)))\n",
    "    "
   ]
  },
  {
   "cell_type": "code",
   "execution_count": 73,
   "id": "997b3f9a-de2d-4485-ab54-3f2c96429726",
   "metadata": {},
   "outputs": [],
   "source": [
    "def simple_iterations(f, derivative, pp, xi_0, epsilon=1e-10):\n",
    "    count = 0\n",
    "    \n",
    "    f_xi = f(xi_0, pp)\n",
    "    d_fxi = derivative(xi_0)\n",
    "    \n",
    "    multiplier = 1 / d_fxi\n",
    "    xi = xi_0\n",
    "    xi_new = xi - (f_xi * multiplier)\n",
    "    while(np.abs(xi_new - xi) > epsilon):\n",
    "        count += 1\n",
    "        xi = xi_new\n",
    "        f_xi = f(xi, pp)\n",
    "        xi_new = xi - (f_xi * multiplier)\n",
    "\n",
    "    return (xi_new, count)"
   ]
  },
  {
   "cell_type": "code",
   "execution_count": 74,
   "id": "ab87145d-fce1-46d3-baab-838fbc1bbc81",
   "metadata": {},
   "outputs": [
    {
     "name": "stdout",
     "output_type": "stream",
     "text": [
      "result = 0.1432273774, number of iterations = 14\n",
      "10\n"
     ]
    }
   ],
   "source": [
    "result = simple_iterations(f, derivative, pp, np.float64(0.1))\n",
    "\n",
    "print(\"result = {:.10f}, number of iterations = {}\".format(result[0], result[1]))\n",
    "\n",
    "#theoretical number of iterations\n",
    "eps_0 = 1e-1\n",
    "eps=1e-10\n",
    "print(round(np.log10(eps_0/eps)/(np.log10(np.abs(derivative(0.14)+1)))))"
   ]
  },
  {
   "cell_type": "code",
   "execution_count": 75,
   "id": "53687231",
   "metadata": {},
   "outputs": [],
   "source": [
    "def newtons_method(f, derivative, pp, xi_0, epsilon=np.float64(1e-10)):\n",
    "    count = 0\n",
    "    \n",
    "    f_xi = f(xi_0, pp)\n",
    "    d_fxi = derivative(xi_0)\n",
    "    \n",
    "    xi = xi_0\n",
    "    xi_new = xi -(f_xi / d_fxi)\n",
    "    while(np.abs(xi_new - xi) > epsilon):\n",
    "        count += 1\n",
    "        xi = xi_new\n",
    "        f_xi = f(xi, pp)\n",
    "        xi_new = xi - (f_xi / derivative(xi))\n",
    "        \n",
    "    \n",
    "    return (xi_new, count)\n",
    "    "
   ]
  },
  {
   "cell_type": "code",
   "execution_count": 76,
   "id": "996e3961",
   "metadata": {},
   "outputs": [
    {
     "name": "stdout",
     "output_type": "stream",
     "text": [
      "result = 0.1432273775, number of iterations = 19\n"
     ]
    }
   ],
   "source": [
    "result = newtons_method(f, derivative, pp, np.float64(0.1))\n",
    "print(\"result = {:.10f}, number of iterations = {}\".format(result[0], result[1]))"
   ]
  }
 ],
 "metadata": {
  "kernelspec": {
   "display_name": "Python 3 (ipykernel)",
   "language": "python",
   "name": "python3"
  },
  "language_info": {
   "codemirror_mode": {
    "name": "ipython",
    "version": 3
   },
   "file_extension": ".py",
   "mimetype": "text/x-python",
   "name": "python",
   "nbconvert_exporter": "python",
   "pygments_lexer": "ipython3",
   "version": "3.12.2"
  },
  "vscode": {
   "interpreter": {
    "hash": "986c65b7f44be49c5a5d7bebfaa9311e4a7a8341f04b974bc4db3a8e5344b8db"
   }
  }
 },
 "nbformat": 4,
 "nbformat_minor": 5
}
