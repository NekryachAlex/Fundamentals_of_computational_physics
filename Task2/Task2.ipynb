{
 "cells": [
  {
   "cell_type": "code",
   "execution_count": 1,
   "id": "3a91d3cf",
   "metadata": {},
   "outputs": [],
   "source": [
    "import matplotlib.pyplot as plt\n",
    "import numpy as np\n",
    "from scipy.optimize import root\n",
    "from math import *\n",
    "\n",
    "import seaborn as sns\n",
    "sns.set_style('darkgrid')\n",
    "\n",
    "import ipywidgets as widgets"
   ]
  },
  {
   "cell_type": "code",
   "execution_count": 2,
   "id": "a2d38b12-0c6b-486f-92be-86d97a70f516",
   "metadata": {},
   "outputs": [],
   "source": [
    "np.set_printoptions(precision=64)"
   ]
  },
  {
   "cell_type": "code",
   "execution_count": 31,
   "id": "70444f93",
   "metadata": {},
   "outputs": [],
   "source": [
    "a = np.float64(1e-12) #pp[0]\n",
    "\n",
    "h = np.float64(1.054e-27) #pp[3]\n",
    "\n",
    "m = np.float64(9.1e-28) #pp[1]\n",
    "\n",
    "U_0 = np.float64(5e7 * 1.6e-12) #pp[2]\n",
    "\n",
    "pp = (a, m, U_0, m)"
   ]
  },
  {
   "cell_type": "code",
   "execution_count": 32,
   "id": "2491bc5b",
   "metadata": {},
   "outputs": [],
   "source": [
    "def f(xi, pp):\n",
    "    return  np.sqrt(1/xi - 1) - 1/np.tan(np.sqrt(2 * pp[0] * pp[0] * pp[1] * pp[2] /(pp[3]**2) * (1 - xi)))"
   ]
  },
  {
   "cell_type": "code",
   "execution_count": 49,
   "id": "53412f7c",
   "metadata": {},
   "outputs": [
    {
     "data": {
      "image/png": "[encoded data removed]",
      "text/plain": [
       "<Figure size 1000x300 with 1 Axes>"
      ]
     },
     "metadata": {},
     "output_type": "display_data"
    }
   ],
   "source": [
    "x = np.arange(0.01, 0.99, 0.01)\n",
    "plt.figure(figsize=(10, 3))\n",
    "plt.plot(x, f(x,pp))\n",
    "plt.show()"
   ]
  },
  {
   "cell_type": "code",
   "execution_count": 34,
   "id": "d5c5ed23",
   "metadata": {},
   "outputs": [],
   "source": [
    "def dichotomy(f,pp, a, b, eps=1e-10):\n",
    "    f_a = f(a, pp)\n",
    "    f_b = f(b, pp)\n",
    "    count = 0\n",
    "    if f_a *  f_b > 0:\n",
    "        raise ValueError(\"The function must have opposite signs at points a and b\")\n",
    "        \n",
    "    while True:\n",
    "        count += 1\n",
    "        c = (a + b) / 2\n",
    "        f_c = f(c, pp)\n",
    "        if f_c == 0 or (b - a) / 2 < eps:\n",
    "            return (c, count)\n",
    "        elif f_a * f_c < 0:\n",
    "            b = c\n",
    "        else:\n",
    "            a = c"
   ]
  },
  {
   "cell_type": "code",
   "execution_count": 67,
   "id": "91716041",
   "metadata": {
    "scrolled": true
   },
   "outputs": [
    {
     "name": "stdout",
     "output_type": "stream",
     "text": [
      "result = 0.1432273774, number of operations = 31\n",
      "30\n"
     ]
    }
   ],
   "source": [
    "a = 0.08\n",
    "b = 0.2\n",
    "\n",
    "result, count = dichotomy(f,pp, a,b)\n",
    "print(\"result = {:.10f}, number of operations = {}\".format(result, count))\n",
    "#theoretical number of iterations\n",
    "eps_0 = 1e-1\n",
    "eps=1e-10\n",
    "print(round(np.log10(eps_0/eps)/np.log10(2)))"
   ]
  },
  {
   "cell_type": "code",
   "execution_count": 68,
   "id": "706c4dde-e1c5-4517-ba61-8dd2792e0651",
   "metadata": {},
   "outputs": [],
   "source": [
    "multiplier = 2 * pp[0] * pp[0] * pp[1] * pp[2] /(pp[3]**2)\n",
    "def derivative(xi):\n",
    "    return (multiplier * xi)/(2*np.sqrt(multiplier*(1-xi))*np.sin(multiplier * (1 - xi))**2) - 1/(2*(xi**2)*(np.sqrt(1/xi - 1)))\n",
    "    "
   ]
  },
  {
   "cell_type": "code",
   "execution_count": 37,
   "id": "997b3f9a-de2d-4485-ab54-3f2c96429726",
   "metadata": {},
   "outputs": [],
   "source": [
    "def simple_iterations(f, derivative, pp, xi_0, epsilon=1e-10):\n",
    "    count = 0\n",
    "    \n",
    "    f_xi = f(xi_0, pp)\n",
    "    d_fxi = derivative(xi_0)\n",
    "    \n",
    "    multiplier = 1 / d_fxi\n",
    "    xi = xi_0\n",
    "    xi_new = xi - (f_xi * multiplier)\n",
    "    \n",
    "    while(np.abs(xi_new - xi) > epsilon):\n",
    "        count += 1\n",
    "        xi = xi_new\n",
    "        f_xi = f(xi, pp)\n",
    "        xi_new = xi - (f_xi * multiplier)\n",
    "        print(f_xi * multiplier)\n",
    "    \n",
    "    return (xi_new, count)"
   ]
  },
  {
   "cell_type": "code",
   "execution_count": 65,
   "id": "ab87145d-fce1-46d3-baab-838fbc1bbc81",
   "metadata": {},
   "outputs": [
    {
     "name": "stdout",
     "output_type": "stream",
     "text": [
      "-0.009292187774282826\n",
      "-0.003952848743964334\n",
      "-0.001814773758210731\n",
      "-0.0008573847056839919\n",
      "-0.0004101578004017579\n",
      "-0.00019734574303126401\n",
      "-9.52111801141206e-05\n",
      "-4.5995409562617134e-05\n",
      "-2.2233793927307765e-05\n",
      "-1.07508836463319e-05\n",
      "-5.199220963800726e-06\n",
      "-2.5145663400689297e-06\n",
      "-1.2161937569352767e-06\n",
      "-5.88233322363566e-07\n",
      "-2.8451158113839694e-07\n",
      "-1.3761062119572626e-07\n",
      "-6.655869126473366e-08\n",
      "-3.2192743216150655e-08\n",
      "-1.5570816517867353e-08\n",
      "-7.531212123615573e-09\n",
      "-3.6426581863783898e-09\n",
      "-1.7618623508702704e-09\n",
      "-8.521686343847377e-10\n",
      "-4.121726103602739e-10\n",
      "-1.9935756359704691e-10\n",
      "-9.642427340234762e-11\n",
      "result = 0.1432273774, number of iterations = 26\n",
      "10\n"
     ]
    }
   ],
   "source": [
    "result = simple_iterations(f, derivative, pp, np.float64(0.08))\n",
    "\n",
    "print(\"result = {:.10f}, number of iterations = {}\".format(result[0], result[1]))\n",
    "\n",
    "#theoretical number of iterations\n",
    "eps_0 = 1e-1\n",
    "eps=1e-10\n",
    "print(round(np.log10(eps_0/eps)/(np.log10(np.abs(derivative(0.14)+1)))))"
   ]
  },
  {
   "cell_type": "code",
   "execution_count": 57,
   "id": "53687231",
   "metadata": {},
   "outputs": [],
   "source": [
    "def newtons_method(f, derivative, pp, xi_0, epsilon=np.float64(1e-10)):\n",
    "    count = 0\n",
    "    \n",
    "    f_xi = f(xi_0, pp)\n",
    "    d_fxi = derivative(xi_0)\n",
    "    \n",
    "    xi = xi_0\n",
    "    xi_new = xi -(f_xi / d_fxi)\n",
    "    print(1/derivative(xi))\n",
    "    while(np.abs(xi_new - xi) > epsilon):\n",
    "        count += 1\n",
    "        xi = xi_new\n",
    "        f_xi = f(xi, pp)\n",
    "        xi_new = xi - (f_xi / derivative(xi))\n",
    "        print((f_xi / derivative(xi)))\n",
    "    \n",
    "    return (xi_new, count)\n",
    "    "
   ]
  },
  {
   "cell_type": "code",
   "execution_count": 66,
   "id": "996e3961",
   "metadata": {},
   "outputs": [
    {
     "name": "stdout",
     "output_type": "stream",
     "text": [
      "-0.04471543089440511\n",
      "-0.019466163144985636\n",
      "0.0038294683593380397\n",
      "-0.0014382968634326359\n",
      "0.0004974322839254685\n",
      "-0.000177765237544967\n",
      "6.282737793626457e-05\n",
      "-2.2293760413465395e-05\n",
      "7.89963733688213e-06\n",
      "-2.8005790948799157e-06\n",
      "9.926855803273537e-07\n",
      "-3.518866745786385e-07\n",
      "1.247338349405366e-07\n",
      "-4.421495133842448e-08\n",
      "1.5673024606151913e-08\n",
      "-5.555675927852943e-09\n",
      "1.9693406607916873e-09\n",
      "-6.980795407372144e-10\n",
      "2.474508765996704e-10\n",
      "-8.771482112100343e-11\n",
      "result = 0.1432273775, number of iterations = 19\n"
     ]
    }
   ],
   "source": [
    "result = newtons_method(f, derivative, pp, np.float64(0.08))\n",
    "print(\"result = {:.10f}, number of iterations = {}\".format(result[0], result[1]))"
   ]
  },
  {
   "cell_type": "code",
   "execution_count": null,
   "id": "3d8203f9-460d-4eae-928c-ba328207e5e8",
   "metadata": {},
   "outputs": [],
   "source": []
  },
  {
   "cell_type": "code",
   "execution_count": null,
   "id": "26fe182e-62de-4be9-96c8-91dc09b007e8",
   "metadata": {},
   "outputs": [],
   "source": []
  }
 ],
 "metadata": {
  "kernelspec": {
   "display_name": "Python 3 (ipykernel)",
   "language": "python",
   "name": "python3"
  },
  "language_info": {
   "codemirror_mode": {
    "name": "ipython",
    "version": 3
   },
   "file_extension": ".py",
   "mimetype": "text/x-python",
   "name": "python",
   "nbconvert_exporter": "python",
   "pygments_lexer": "ipython3",
   "version": "3.12.2"
  },
  "vscode": {
   "interpreter": {
    "hash": "986c65b7f44be49c5a5d7bebfaa9311e4a7a8341f04b974bc4db3a8e5344b8db"
   }
  }
 },
 "nbformat": 4,
 "nbformat_minor": 5
}
